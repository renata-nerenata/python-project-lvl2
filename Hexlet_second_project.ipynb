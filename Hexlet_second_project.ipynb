{
 "cells": [
  {
   "cell_type": "code",
   "execution_count": 1,
   "id": "technical-disorder",
   "metadata": {},
   "outputs": [],
   "source": [
    "import json\n",
    "\n",
    "\n",
    "def read_file(path):\n",
    "    return json.load(open(path))"
   ]
  },
  {
   "cell_type": "code",
   "execution_count": 2,
   "id": "protecting-acoustic",
   "metadata": {},
   "outputs": [],
   "source": [
    "file1 = read_file('file1.json')\n",
    "file2 = read_file('file2.json')"
   ]
  },
  {
   "cell_type": "code",
   "execution_count": 615,
   "id": "architectural-comment",
   "metadata": {},
   "outputs": [],
   "source": [
    "file1 = {\n",
    "  \"host\": \"hexlet.io\",\n",
    "  \"timeout\": 50,\n",
    "  \"proxy\": \"123.234.53.22\",\n",
    "  \"follow\": 'false'\n",
    "}\n",
    "\n",
    "file2 = {\n",
    "  \"timeout\": 20,\n",
    "  \"verbose\": 'true',\n",
    "  \"host\": \"hexlet.io\"\n",
    "}"
   ]
  },
  {
   "cell_type": "code",
   "execution_count": 616,
   "id": "homeless-conflict",
   "metadata": {},
   "outputs": [],
   "source": [
    "a = {\n",
    "  \"common\": {\n",
    "    \"setting1\": \"Value 1\",\n",
    "    \"setting2\": 200,\n",
    "    \"setting3\": True,\n",
    "    \"setting6\": {\n",
    "      \"key\": \"value\",\n",
    "      \"doge\": {\n",
    "        \"wow\": \"\"\n",
    "      }\n",
    "    }\n",
    "  },\n",
    "  \"group1\": {\n",
    "    \"baz\": \"bas\",\n",
    "    \"foo\": \"bar\",\n",
    "    \"nest\": {\n",
    "      \"key\": \"value\"\n",
    "    }\n",
    "  },\n",
    "  \"group2\": {\n",
    "    \"abc\": 12345,\n",
    "    \"deep\": {\n",
    "      \"id\": 45\n",
    "    }\n",
    "  }\n",
    "}\n",
    "b = {\n",
    "  \"common\": {\n",
    "    \"follow\": False,\n",
    "    \"setting1\": \"Value 1\",\n",
    "    \"setting3\": \"Null\",\n",
    "    \"setting4\": \"blah blah\",\n",
    "    \"setting5\": {\n",
    "      \"key5\": \"value5\"\n",
    "    },\n",
    "    \"setting6\": {\n",
    "      \"key\": \"value\",\n",
    "      \"ops\": \"vops\",\n",
    "      \"doge\": {\n",
    "        \"wow\": \"so much\"\n",
    "      }\n",
    "    }\n",
    "  },\n",
    "  \"group1\": {\n",
    "    \"foo\": \"bar\",\n",
    "    \"baz\": \"bars\",\n",
    "    \"nest\": \"str\"\n",
    "  },\n",
    "  \"group3\": {\n",
    "    \"deep\": {\n",
    "      \"id\": {\n",
    "        \"number\": 45\n",
    "      }\n",
    "    },\n",
    "    \"fee\": 100500\n",
    "  }\n",
    "}"
   ]
  },
  {
   "cell_type": "code",
   "execution_count": 617,
   "id": "unexpected-variance",
   "metadata": {},
   "outputs": [
    {
     "data": {
      "text/plain": [
       "{'follow': ('removed', 'false'),\n",
       " 'proxy': ('removed', '123.234.53.22'),\n",
       " 'verbose': ('added', 'true'),\n",
       " 'timeout': ('modified', (50, 20)),\n",
       " 'host': ('unmodified', 'hexlet.io')}"
      ]
     },
     "execution_count": 617,
     "metadata": {},
     "output_type": "execute_result"
    }
   ],
   "source": [
    "REMOVED = 'removed'\n",
    "ADDED = 'added'\n",
    "UNMODIFIED = 'unmodified'\n",
    "MODIFIED = 'modified'\n",
    "NESTED = 'nested'\n",
    "\n",
    "\n",
    "def generate_diff(file_before, file_after):\n",
    "    result = {}\n",
    "    \n",
    "    united_keys = file_before.keys() & file_after.keys()\n",
    "    removed_keys = file_before.keys() - file_after.keys()\n",
    "    added_keys = file_after.keys() - file_before.keys()\n",
    "    \n",
    "    #check removed keys\n",
    "    for key in removed_keys:\n",
    "        if isinstance(file_before[key], dict):\n",
    "            result[key] = (REMOVED, generate_diff(file_before[key], file_before[key]))\n",
    "        else:\n",
    "            result[key] = (REMOVED, file_before[key])\n",
    "    \n",
    "    #check added keys\n",
    "    for key in added_keys:\n",
    "        if isinstance(file_after[key], dict):\n",
    "            result[key] = (ADDED, generate_diff(file_after[key], file_after[key]))\n",
    "        else:\n",
    "            result[key] = (ADDED, file_after[key])\n",
    "    \n",
    "    #check modified and unmodified keys\n",
    "    for key in united_keys:\n",
    "        if file_before[key] == file_after[key]:\n",
    "            if isinstance(file_before[key], dict):\n",
    "                result[key] = (UNMODIFIED, generate_diff(file_before[key], file_before[key]))\n",
    "            else:\n",
    "                result[key] = (UNMODIFIED, file_before[key])\n",
    "        else:\n",
    "            if isinstance(file_before[key], dict) and isinstance(file_after[key], dict):\n",
    "                result[key] = (NESTED, generate_diff(file_before[key], file_after[key]))\n",
    "            else:\n",
    "                result[key] = (MODIFIED, (file_before[key], file_after[key]))\n",
    "    return result\n",
    "\n",
    "generate_diff(file1, file2)"
   ]
  },
  {
   "cell_type": "code",
   "execution_count": 618,
   "id": "dimensional-ranking",
   "metadata": {},
   "outputs": [
    {
     "data": {
      "text/plain": [
       "{'group2': ('removed',\n",
       "  {'deep': ('unmodified', {'id': ('unmodified', 45)}),\n",
       "   'abc': ('unmodified', 12345)}),\n",
       " 'group3': ('added',\n",
       "  {'fee': ('unmodified', 100500),\n",
       "   'deep': ('unmodified',\n",
       "    {'id': ('unmodified', {'number': ('unmodified', 45)})})}),\n",
       " 'group1': ('nested',\n",
       "  {'nest': ('modified', ({'key': 'value'}, 'str')),\n",
       "   'foo': ('unmodified', 'bar'),\n",
       "   'baz': ('modified', ('bas', 'bars'))}),\n",
       " 'common': ('nested',\n",
       "  {'setting2': ('removed', 200),\n",
       "   'follow': ('added', False),\n",
       "   'setting4': ('added', 'blah blah'),\n",
       "   'setting5': ('added', {'key5': ('unmodified', 'value5')}),\n",
       "   'setting3': ('modified', (True, 'Null')),\n",
       "   'setting1': ('unmodified', 'Value 1'),\n",
       "   'setting6': ('nested',\n",
       "    {'ops': ('added', 'vops'),\n",
       "     'key': ('unmodified', 'value'),\n",
       "     'doge': ('nested', {'wow': ('modified', ('', 'so much'))})})})}"
      ]
     },
     "execution_count": 618,
     "metadata": {},
     "output_type": "execute_result"
    }
   ],
   "source": [
    "generate_diff(a, b)"
   ]
  },
  {
   "cell_type": "markdown",
   "id": "decimal-massachusetts",
   "metadata": {},
   "source": [
    "# Print string"
   ]
  },
  {
   "cell_type": "code",
   "execution_count": 619,
   "id": "designed-jewel",
   "metadata": {},
   "outputs": [],
   "source": [
    "from collections import OrderedDict\n",
    "\n",
    "states = {'removed': '- ', \n",
    "          'added': '+ ',\n",
    "          'unmodified': '  ',\n",
    "          'nested': '  '}\n",
    "\n",
    "def check_status(key, state, value, shift = ' '):\n",
    "    if state == 'modified':\n",
    "        print(shift + '- ' + str( key)+ ': '+  str(value[0]))\n",
    "        print(shift + '+ ' + str( key)+ ': '+  str(value[1]))\n",
    "    else:\n",
    "        print(shift + states[state] + str( key)+ ': '+  str(value))\n",
    "\n",
    "def parse_dict(answer):\n",
    "    answer = OrderedDict(sorted(answer.items()))\n",
    "    shift = ' '\n",
    "    for key, (state, value) in answer.items():\n",
    "        i=+2\n",
    "        if not isinstance(value, dict):\n",
    "            check_status(key, state, value, shift = i*shift)\n",
    "        else:\n",
    "            \n",
    "            print(i*shift + states[state] + str( key)+ ': {')\n",
    "            parse_dict_3(value, i*shift)\n",
    "            print(i*shift + ' }')\n",
    "    return  "
   ]
  },
  {
   "cell_type": "code",
   "execution_count": 620,
   "id": "acute-penguin",
   "metadata": {},
   "outputs": [
    {
     "name": "stdout",
     "output_type": "stream",
     "text": [
      "    common: {\n",
      "    + follow: False\n",
      "      setting1: Value 1\n",
      "    - setting2: 200\n",
      "    - setting3: True\n",
      "    + setting3: Null\n",
      "    + setting4: blah blah\n",
      "    + setting5: {\n",
      "          key5: value5\n",
      "     }\n",
      "      setting6: {\n",
      "          doge: {\n",
      "                - wow: \n",
      "                + wow: so much\n",
      "         }\n",
      "          key: value\n",
      "        + ops: vops\n",
      "     }\n",
      "   }\n",
      "    group1: {\n",
      "    - baz: bas\n",
      "    + baz: bars\n",
      "      foo: bar\n",
      "    - nest: {'key': 'value'}\n",
      "    + nest: str\n",
      "   }\n",
      "  - group2: {\n",
      "      abc: 12345\n",
      "      deep: {\n",
      "          id: 45\n",
      "     }\n",
      "   }\n",
      "  + group3: {\n",
      "      deep: {\n",
      "          id: {\n",
      "                  number: 45\n",
      "         }\n",
      "     }\n",
      "      fee: 100500\n",
      "   }\n"
     ]
    }
   ],
   "source": [
    "parse_dict(generate_diff(a, b))"
   ]
  },
  {
   "cell_type": "markdown",
   "id": "studied-james",
   "metadata": {},
   "source": [
    "# Parse plain"
   ]
  },
  {
   "cell_type": "code",
   "execution_count": 621,
   "id": "laughing-storm",
   "metadata": {},
   "outputs": [],
   "source": [
    "import numpy as np"
   ]
  },
  {
   "cell_type": "code",
   "execution_count": 648,
   "id": "instructional-discount",
   "metadata": {},
   "outputs": [],
   "source": [
    "def check_status(path, key, state, value):\n",
    "    path_full = \"{}.{}\".format(path, key)\n",
    "    if state == 'modified':\n",
    "        line = \"\"\"Property '{}' was updated. From '{}' to '{}'\"\"\".format(path_full, value[0], value[1])\n",
    "    elif state == 'removed':\n",
    "        line = \"\"\"Property '{}' was '{}'\"\"\".format(path_full, state)\n",
    "    elif state == 'added':\n",
    "        line = \"\"\"Property '{}' was '{}' with value: '{}'\"\"\".format(path_full, state, value)\n",
    "    else:\n",
    "        line = ''\n",
    "    return line\n",
    "\n",
    "def parse_plain(answer, path = ''):\n",
    "    answer = OrderedDict(sorted(answer.items()))\n",
    "    for key, (state, value) in answer.items():\n",
    "        if not isinstance(value, dict):\n",
    "            path = \"{}.{}\".format(path, key)\n",
    "            line = check_status(path, key, state, value)\n",
    "            print(line)\n",
    "        else:\n",
    "            path = \"{}.{}\".format(path, key)\n",
    "            parse_plain(value, path)\n",
    "                \n",
    "    return "
   ]
  },
  {
   "cell_type": "code",
   "execution_count": 649,
   "id": "mathematical-spirituality",
   "metadata": {},
   "outputs": [
    {
     "name": "stdout",
     "output_type": "stream",
     "text": [
      "Property '.common.follow.follow' was 'added' with value: 'False'\n",
      "\n",
      "Property '.common.follow.setting1.setting2.setting2' was 'removed'\n",
      "Property '.common.follow.setting1.setting2.setting3.setting3' was updated. From 'True' to 'Null'\n",
      "Property '.common.follow.setting1.setting2.setting3.setting4.setting4' was 'added' with value: 'blah blah'\n",
      "\n",
      "Property '.common.follow.setting1.setting2.setting3.setting4.setting5.setting6.doge.wow.wow' was updated. From '' to 'so much'\n",
      "\n",
      "Property '.common.follow.setting1.setting2.setting3.setting4.setting5.setting6.doge.key.ops.ops' was 'added' with value: 'vops'\n",
      "Property '.common.group1.baz.baz' was updated. From 'bas' to 'bars'\n",
      "\n",
      "Property '.common.group1.baz.foo.nest.nest' was updated. From '{'key': 'value'}' to 'str'\n",
      "\n",
      "\n",
      "\n",
      "\n"
     ]
    }
   ],
   "source": [
    "parse_plain(generate_diff(a, b))"
   ]
  },
  {
   "cell_type": "code",
   "execution_count": 633,
   "id": "decreased-wisdom",
   "metadata": {},
   "outputs": [
    {
     "data": {
      "text/plain": [
       "{'group2': ('removed',\n",
       "  {'deep': ('unmodified', {'id': ('unmodified', 45)}),\n",
       "   'abc': ('unmodified', 12345)}),\n",
       " 'group3': ('added',\n",
       "  {'fee': ('unmodified', 100500),\n",
       "   'deep': ('unmodified',\n",
       "    {'id': ('unmodified', {'number': ('unmodified', 45)})})}),\n",
       " 'group1': ('nested',\n",
       "  {'nest': ('modified', ({'key': 'value'}, 'str')),\n",
       "   'foo': ('unmodified', 'bar'),\n",
       "   'baz': ('modified', ('bas', 'bars'))}),\n",
       " 'common': ('nested',\n",
       "  {'setting2': ('removed', 200),\n",
       "   'follow': ('added', False),\n",
       "   'setting4': ('added', 'blah blah'),\n",
       "   'setting5': ('added', {'key5': ('unmodified', 'value5')}),\n",
       "   'setting3': ('modified', (True, 'Null')),\n",
       "   'setting1': ('unmodified', 'Value 1'),\n",
       "   'setting6': ('nested',\n",
       "    {'ops': ('added', 'vops'),\n",
       "     'key': ('unmodified', 'value'),\n",
       "     'doge': ('nested', {'wow': ('modified', ('', 'so much'))})})})}"
      ]
     },
     "execution_count": 633,
     "metadata": {},
     "output_type": "execute_result"
    }
   ],
   "source": [
    "generate_diff(a, b)"
   ]
  },
  {
   "cell_type": "code",
   "execution_count": null,
   "id": "after-chinese",
   "metadata": {},
   "outputs": [],
   "source": []
  }
 ],
 "metadata": {
  "kernelspec": {
   "display_name": "Python 3",
   "language": "python",
   "name": "python3"
  },
  "language_info": {
   "codemirror_mode": {
    "name": "ipython",
    "version": 3
   },
   "file_extension": ".py",
   "mimetype": "text/x-python",
   "name": "python",
   "nbconvert_exporter": "python",
   "pygments_lexer": "ipython3",
   "version": "3.8.5"
  }
 },
 "nbformat": 4,
 "nbformat_minor": 5
}
