{
 "cells": [
  {
   "cell_type": "code",
   "execution_count": 142,
   "id": "technical-disorder",
   "metadata": {},
   "outputs": [],
   "source": [
    "import json\n",
    "\n",
    "def read_file(path):\n",
    "    return json.load(open(path))"
   ]
  },
  {
   "cell_type": "code",
   "execution_count": 143,
   "id": "protecting-acoustic",
   "metadata": {},
   "outputs": [],
   "source": [
    "file1 = read_file('file1.json')\n",
    "file2 = read_file('file2.json')"
   ]
  },
  {
   "cell_type": "code",
   "execution_count": 148,
   "id": "greatest-collect",
   "metadata": {},
   "outputs": [],
   "source": [
    "def get_answer(file1, file2):\n",
    "    answer = {}\n",
    "    for key_1, value_1 in file1.items():\n",
    "        for key_2, value_2 in file2.items():\n",
    "            if (key_1 == key_2) & (value_1 == value_2):\n",
    "                answer[str('  ' + key_1)] = value_1\n",
    "            if (key_1 == key_2) & (value_1 != value_2):\n",
    "                answer[str('- ' + key_1)] = value_1\n",
    "                answer[str('+ ' + key_2)] = value_2\n",
    "    for key in set(file1) - set(file2):\n",
    "        answer[str('- ' + key)] = file1[key]\n",
    "    for key in set(file2) - set(file1):\n",
    "        answer[str('+ ' + key)] = file2[key]\n",
    "    return answer\n",
    "\n",
    "\n",
    "def sorted_answer(answer):\n",
    "    return {k: v for k, v in sorted(answer.items(), key =  lambda x: x[0][2])}\n",
    "\n",
    "\n",
    "def answer_to_string(answer_sorted):\n",
    "    string = '{\\n'\n",
    "    for k, v in answer_sorted.items():\n",
    "        string = string + str(k) + ' : ' + str(v) + '\\n'\n",
    "    string = string + '}'\n",
    "    return print(string)"
   ]
  },
  {
   "cell_type": "code",
   "execution_count": 149,
   "id": "sensitive-partition",
   "metadata": {},
   "outputs": [
    {
     "name": "stdout",
     "output_type": "stream",
     "text": [
      "{\n",
      "- follow : False\n",
      "  host : hexlet.io\n",
      "- proxy : 123.234.53.22\n",
      "- timeout : 50\n",
      "+ timeout : 20\n",
      "+ verbose : True\n",
      "}\n"
     ]
    }
   ],
   "source": [
    "answer = get_answer(file1, file2)\n",
    "answer_sorted = sorted_answer(answer)\n",
    "string = answer_to_string(answer_sorted)"
   ]
  },
  {
   "cell_type": "code",
   "execution_count": null,
   "id": "circular-penguin",
   "metadata": {},
   "outputs": [],
   "source": []
  }
 ],
 "metadata": {
  "kernelspec": {
   "display_name": "Python 3",
   "language": "python",
   "name": "python3"
  },
  "language_info": {
   "codemirror_mode": {
    "name": "ipython",
    "version": 3
   },
   "file_extension": ".py",
   "mimetype": "text/x-python",
   "name": "python",
   "nbconvert_exporter": "python",
   "pygments_lexer": "ipython3",
   "version": "3.8.5"
  }
 },
 "nbformat": 4,
 "nbformat_minor": 5
}
